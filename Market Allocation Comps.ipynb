{
 "cells": [
  {
   "cell_type": "code",
   "execution_count": 2,
   "id": "6b362918",
   "metadata": {},
   "outputs": [],
   "source": [
    "###IMPORT LIBRARIES###\n",
    "import matplotlib.pyplot as plt\n",
    "import numpy as np\n",
    "import pandas as pd\n",
    "#import json #json encoder\n",
    "import requests"
   ]
  },
  {
   "cell_type": "code",
   "execution_count": 3,
   "id": "6777fe81",
   "metadata": {},
   "outputs": [
    {
     "name": "stdout",
     "output_type": "stream",
     "text": [
      "200\n"
     ]
    }
   ],
   "source": [
    "response = requests.get(\"https://api.coingecko.com/api/v3/ping\")\n",
    "print(response.status_code)"
   ]
  },
  {
   "cell_type": "code",
   "execution_count": 33,
   "id": "3e8702b2",
   "metadata": {},
   "outputs": [],
   "source": [
    "#coinlist\n",
    "#https://api.coingecko.com/api/v3/coins/list"
   ]
  },
  {
   "cell_type": "code",
   "execution_count": 4,
   "id": "e9cca8b4",
   "metadata": {},
   "outputs": [
    {
     "name": "stdout",
     "output_type": "stream",
     "text": [
      "Requirement already satisfied: pycoingecko in c:\\users\\vincentramsey\\anaconda3\\lib\\site-packages (3.1.0)\n",
      "Requirement already satisfied: requests in c:\\users\\vincentramsey\\anaconda3\\lib\\site-packages (from pycoingecko) (2.28.1)\n",
      "Requirement already satisfied: certifi>=2017.4.17 in c:\\users\\vincentramsey\\anaconda3\\lib\\site-packages (from requests->pycoingecko) (2022.9.14)\n",
      "Requirement already satisfied: charset-normalizer<3,>=2 in c:\\users\\vincentramsey\\anaconda3\\lib\\site-packages (from requests->pycoingecko) (2.0.4)\n",
      "Requirement already satisfied: idna<4,>=2.5 in c:\\users\\vincentramsey\\anaconda3\\lib\\site-packages (from requests->pycoingecko) (3.3)\n",
      "Requirement already satisfied: urllib3<1.27,>=1.21.1 in c:\\users\\vincentramsey\\anaconda3\\lib\\site-packages (from requests->pycoingecko) (1.26.11)\n",
      "Note: you may need to restart the kernel to use updated packages.\n"
     ]
    }
   ],
   "source": [
    "pip install -U pycoingecko\n"
   ]
  },
  {
   "cell_type": "code",
   "execution_count": 5,
   "id": "926b61e2",
   "metadata": {},
   "outputs": [],
   "source": [
    "from pycoingecko import CoinGeckoAPI\n",
    "cg = CoinGeckoAPI() "
   ]
  },
  {
   "cell_type": "markdown",
   "id": "bdffaa0d",
   "metadata": {},
   "source": [
    "<h3>Market Comps Allocation Table<h3>"
   ]
  },
  {
   "cell_type": "code",
   "execution_count": 22,
   "id": "da64c3d9",
   "metadata": {
    "scrolled": true
   },
   "outputs": [
    {
     "data": {
      "text/html": [
       "<div>\n",
       "<style scoped>\n",
       "    .dataframe tbody tr th:only-of-type {\n",
       "        vertical-align: middle;\n",
       "    }\n",
       "\n",
       "    .dataframe tbody tr th {\n",
       "        vertical-align: top;\n",
       "    }\n",
       "\n",
       "    .dataframe thead th {\n",
       "        text-align: right;\n",
       "    }\n",
       "</style>\n",
       "<table border=\"1\" class=\"dataframe\">\n",
       "  <thead>\n",
       "    <tr style=\"text-align: right;\">\n",
       "      <th></th>\n",
       "      <th>Project</th>\n",
       "      <th>FDMC</th>\n",
       "      <th>Token Volume</th>\n",
       "      <th>NFT Collection Valuation</th>\n",
       "      <th>NFT Collection Volume</th>\n",
       "      <th>FDMC / NFT Collection Multiple(x)</th>\n",
       "    </tr>\n",
       "  </thead>\n",
       "  <tbody>\n",
       "    <tr>\n",
       "      <th>0</th>\n",
       "      <td>apecoin</td>\n",
       "      <td>6089208679</td>\n",
       "      <td>x</td>\n",
       "      <td>1.940373e+09</td>\n",
       "      <td>x</td>\n",
       "      <td>3</td>\n",
       "    </tr>\n",
       "    <tr>\n",
       "      <th>1</th>\n",
       "      <td>the-sandbox</td>\n",
       "      <td>2283148857</td>\n",
       "      <td>x</td>\n",
       "      <td>1.668890e+08</td>\n",
       "      <td>x</td>\n",
       "      <td>13</td>\n",
       "    </tr>\n",
       "    <tr>\n",
       "      <th>2</th>\n",
       "      <td>decentraland</td>\n",
       "      <td>1750674895</td>\n",
       "      <td>x</td>\n",
       "      <td>2.130841e+08</td>\n",
       "      <td>x</td>\n",
       "      <td>8</td>\n",
       "    </tr>\n",
       "    <tr>\n",
       "      <th>3</th>\n",
       "      <td>metahero</td>\n",
       "      <td>51567376</td>\n",
       "      <td>x</td>\n",
       "      <td>1.478111e+07</td>\n",
       "      <td>x</td>\n",
       "      <td>3</td>\n",
       "    </tr>\n",
       "    <tr>\n",
       "      <th>4</th>\n",
       "      <td>wolf-game-wool</td>\n",
       "      <td>89756089</td>\n",
       "      <td>x</td>\n",
       "      <td>2.184781e+07</td>\n",
       "      <td>x</td>\n",
       "      <td>4</td>\n",
       "    </tr>\n",
       "    <tr>\n",
       "      <th>5</th>\n",
       "      <td>zed-run</td>\n",
       "      <td>31030192</td>\n",
       "      <td>x</td>\n",
       "      <td>3.274919e+06</td>\n",
       "      <td>x</td>\n",
       "      <td>9</td>\n",
       "    </tr>\n",
       "    <tr>\n",
       "      <th>6</th>\n",
       "      <td>decentral-games</td>\n",
       "      <td>22870696</td>\n",
       "      <td>x</td>\n",
       "      <td>2.323888e+06</td>\n",
       "      <td>x</td>\n",
       "      <td>1</td>\n",
       "    </tr>\n",
       "  </tbody>\n",
       "</table>\n",
       "</div>"
      ],
      "text/plain": [
       "           Project        FDMC Token Volume  NFT Collection Valuation  \\\n",
       "0          apecoin  6089208679            x              1.940373e+09   \n",
       "1      the-sandbox  2283148857            x              1.668890e+08   \n",
       "2     decentraland  1750674895            x              2.130841e+08   \n",
       "3         metahero    51567376            x              1.478111e+07   \n",
       "4   wolf-game-wool    89756089            x              2.184781e+07   \n",
       "5          zed-run    31030192            x              3.274919e+06   \n",
       "6  decentral-games    22870696            x              2.323888e+06   \n",
       "\n",
       "  NFT Collection Volume  FDMC / NFT Collection Multiple(x)  \n",
       "0                     x                                  3  \n",
       "1                     x                                 13  \n",
       "2                     x                                  8  \n",
       "3                     x                                  3  \n",
       "4                     x                                  4  \n",
       "5                     x                                  9  \n",
       "6                     x                                  1  "
      ]
     },
     "execution_count": 22,
     "metadata": {},
     "output_type": "execute_result"
    }
   ],
   "source": [
    "#construct nft comps table\n",
    "nftComps = pd.DataFrame({\"Project\": ['apecoin','the-sandbox','decentraland','metahero','wolf-game-wool','zed-run','decentral-games'],\n",
    "                        \"FDMC\":[apecoinFDMC,sandFDMC,manaFDMC,heroFDMC,woolFDMC,zedFDMC,dgFDMC],\n",
    "                        \"Token Volume\":[\"x\",\"x\",\"x\",\"x\",\"x\",\"x\",\"x\"],\n",
    "                        \"NFT Collection Valuation\":[totalApeCoinNFT,sandNFT,manaNFT,totalMetaHeroNFT,totalWGNFT,zedNFT,dgNFT],\n",
    "                        \"NFT Collection Volume\":[\"x\",\"x\",\"x\",\"x\",\"x\",\"x\",\"x\"],\n",
    "                        \"FDMC / NFT Collection Multiple(x)\":[apeMul,sandMul,manaMul,heroMul,wgMul,zedMul,dgMul],\n",
    "                        })\n",
    "nftComps"
   ]
  }
 ],
 "metadata": {
  "kernelspec": {
   "display_name": "Python 3 (ipykernel)",
   "language": "python",
   "name": "python3"
  },
  "language_info": {
   "codemirror_mode": {
    "name": "ipython",
    "version": 3
   },
   "file_extension": ".py",
   "mimetype": "text/x-python",
   "name": "python",
   "nbconvert_exporter": "python",
   "pygments_lexer": "ipython3",
   "version": "3.9.13"
  }
 },
 "nbformat": 4,
 "nbformat_minor": 5
}
